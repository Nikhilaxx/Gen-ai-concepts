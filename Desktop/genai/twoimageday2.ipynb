{
 "cells": [
  {
   "cell_type": "code",
   "execution_count": 1,
   "metadata": {},
   "outputs": [
    {
     "ename": "error",
     "evalue": "OpenCV(4.10.0) D:\\a\\opencv-python\\opencv-python\\opencv\\modules\\highgui\\src\\window.cpp:973: error: (-215:Assertion failed) size.width>0 && size.height>0 in function 'cv::imshow'\n",
     "output_type": "error",
     "traceback": [
      "\u001b[1;31m---------------------------------------------------------------------------\u001b[0m",
      "\u001b[1;31merror\u001b[0m                                     Traceback (most recent call last)",
      "Cell \u001b[1;32mIn[1], line 12\u001b[0m\n\u001b[0;32m      9\u001b[0m weightedSum \u001b[38;5;241m=\u001b[39m cv2\u001b[38;5;241m.\u001b[39maddWeighted(image1, \u001b[38;5;241m0.5\u001b[39m, image2, \u001b[38;5;241m0.4\u001b[39m, \u001b[38;5;241m0\u001b[39m)\n\u001b[0;32m     11\u001b[0m \u001b[38;5;66;03m# Display the result\u001b[39;00m\n\u001b[1;32m---> 12\u001b[0m \u001b[43mcv2\u001b[49m\u001b[38;5;241;43m.\u001b[39;49m\u001b[43mimshow\u001b[49m\u001b[43m(\u001b[49m\u001b[38;5;124;43m'\u001b[39;49m\u001b[38;5;124;43mWeighted Image\u001b[39;49m\u001b[38;5;124;43m'\u001b[39;49m\u001b[43m,\u001b[49m\u001b[43m \u001b[49m\u001b[43mweightedSum\u001b[49m\u001b[43m)\u001b[49m\n\u001b[0;32m     14\u001b[0m \u001b[38;5;66;03m# Wait for a key press and close the window\u001b[39;00m\n\u001b[0;32m     15\u001b[0m \u001b[38;5;28;01mif\u001b[39;00m cv2\u001b[38;5;241m.\u001b[39mwaitKey(\u001b[38;5;241m0\u001b[39m) \u001b[38;5;241m&\u001b[39m \u001b[38;5;241m0xFF\u001b[39m \u001b[38;5;241m==\u001b[39m \u001b[38;5;241m27\u001b[39m:  \u001b[38;5;66;03m# 27 is the ASCII code for the 'Esc' key\u001b[39;00m\n",
      "\u001b[1;31merror\u001b[0m: OpenCV(4.10.0) D:\\a\\opencv-python\\opencv-python\\opencv\\modules\\highgui\\src\\window.cpp:973: error: (-215:Assertion failed) size.width>0 && size.height>0 in function 'cv::imshow'\n"
     ]
    }
   ],
   "source": [
    "import cv2\n",
    "import numpy as np\n",
    "\n",
    "# Load the two images\n",
    "image1 = cv2.imread('1.jpg')\n",
    "image2 = cv2.imread('2.jpg')\n",
    "\n",
    "# Blend the images using addWeighted\n",
    "weightedSum = cv2.addWeighted(image1, 0.5, image2, 0.4, 0)\n",
    "\n",
    "# Display the result\n",
    "cv2.imshow('Weighted Image', weightedSum)\n",
    "\n",
    "# Wait for a key press and close the window\n",
    "if cv2.waitKey(0) & 0xFF == 27:  # 27 is the ASCII code for the 'Esc' key\n",
    "    cv2.destroyAllWindows()\n"
   ]
  },
  {
   "cell_type": "code",
   "execution_count": null,
   "metadata": {},
   "outputs": [],
   "source": [
    "import cv2\n",
    "import numpy as np\n",
    "\n",
    "# Load images\n",
    "image1 = cv2.imread('1.jpeg')\n",
    "image2 = cv2.imread('2.jpeg')\n",
    "\n",
    "# Check if images are loaded successfully\n",
    "if image1 is None or image2 is None:\n",
    "    print(\"Error: One of the images did not load.\")\n",
    "    exit()\n",
    "\n",
    "# Resize image2 to match image1's dimensions\n",
    "if image1.shape[:2] != image2.shape[:2]:\n",
    "    image2 = cv2.resize(image2, (image1.shape[1], image1.shape[0]))\n",
    "\n",
    "# Normalize weights\n",
    "weight1 = 0.5\n",
    "weight2 = 0.5\n",
    "\n",
    "# Blend images\n",
    "weightedSum = cv2.addWeighted(image1, weight1, image2, weight2, 0)\n",
    "\n",
    "# Display the resulting image\n",
    "cv2.imshow('Weighted Image', weightedSum)\n",
    "\n",
    "# Wait for user to press a key, then close the window\n",
    "cv2.waitKey(0)\n",
    "cv2.destroyAllWindows()\n"
   ]
  },
  {
   "cell_type": "code",
   "execution_count": 2,
   "metadata": {},
   "outputs": [],
   "source": [
    "import cv2\n",
    "import numpy as np\n",
    "\n",
    "# Load images\n",
    "image1 = cv2.imread('11.jpeg')\n",
    "image2 = cv2.imread('22.jpeg')\n",
    "\n",
    "# Check if images are loaded successfully\n",
    "if image1 is None or image2 is None:\n",
    "    print(\"Error: One of the images did not load.\")\n",
    "    exit()\n",
    "\n",
    "# Resize image2 to match image1's dimensions\n",
    "if image1.shape[:2] != image2.shape[:2]:\n",
    "    image2 = cv2.resize(image2, (image1.shape[1], image1.shape[0]))\n",
    "\n",
    "# Normalize weights\n",
    "weight1 = 0.1\n",
    "weight2 = 0.1\n",
    "\n",
    "# Blend images\n",
    "weightedSum = cv2.addWeighted(image1, weight1, image2, weight2, 0)\n",
    "\n",
    "# Display the resulting image\n",
    "cv2.imshow('Weighted Image', weightedSum)\n",
    "\n",
    "# Wait for user to press a key, then close the window\n",
    "cv2.waitKey(0)\n",
    "cv2.destroyAllWindows()\n",
    "\n"
   ]
  },
  {
   "cell_type": "code",
   "execution_count": null,
   "metadata": {},
   "outputs": [],
   "source": []
  }
 ],
 "metadata": {
  "kernelspec": {
   "display_name": "Python 3",
   "language": "python",
   "name": "python3"
  },
  "language_info": {
   "codemirror_mode": {
    "name": "ipython",
    "version": 3
   },
   "file_extension": ".py",
   "mimetype": "text/x-python",
   "name": "python",
   "nbconvert_exporter": "python",
   "pygments_lexer": "ipython3",
   "version": "3.12.6"
  }
 },
 "nbformat": 4,
 "nbformat_minor": 2
}
